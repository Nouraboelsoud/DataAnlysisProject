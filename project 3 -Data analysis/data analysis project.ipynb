{
 "cells": [
  {
   "cell_type": "code",
   "execution_count": 1,
   "id": "08d730d9",
   "metadata": {},
   "outputs": [],
   "source": [
    "import numpy as np\n",
    "import pandas as pd\n",
    "import seaborn as sns\n",
    "import matplotlib.pyplot as plt\n",
    "\n",
    "%matplotlib inline"
   ]
  },
  {
   "cell_type": "code",
   "execution_count": 72,
   "id": "980e6d66",
   "metadata": {},
   "outputs": [
    {
     "data": {
      "text/html": [
       "<div>\n",
       "<style scoped>\n",
       "    .dataframe tbody tr th:only-of-type {\n",
       "        vertical-align: middle;\n",
       "    }\n",
       "\n",
       "    .dataframe tbody tr th {\n",
       "        vertical-align: top;\n",
       "    }\n",
       "\n",
       "    .dataframe thead th {\n",
       "        text-align: right;\n",
       "    }\n",
       "</style>\n",
       "<table border=\"1\" class=\"dataframe\">\n",
       "  <thead>\n",
       "    <tr style=\"text-align: right;\">\n",
       "      <th></th>\n",
       "      <th>PatientId</th>\n",
       "      <th>AppointmentID</th>\n",
       "      <th>Gender</th>\n",
       "      <th>ScheduledDay</th>\n",
       "      <th>AppointmentDay</th>\n",
       "      <th>Age</th>\n",
       "      <th>Neighbourhood</th>\n",
       "      <th>Scholarship</th>\n",
       "      <th>Hipertension</th>\n",
       "      <th>Diabetes</th>\n",
       "      <th>Alcoholism</th>\n",
       "      <th>Handcap</th>\n",
       "      <th>SMS_received</th>\n",
       "      <th>No-show</th>\n",
       "    </tr>\n",
       "  </thead>\n",
       "  <tbody>\n",
       "    <tr>\n",
       "      <th>0</th>\n",
       "      <td>2.987250e+13</td>\n",
       "      <td>5642903</td>\n",
       "      <td>F</td>\n",
       "      <td>2016-04-29T18:38:08Z</td>\n",
       "      <td>2016-04-29T00:00:00Z</td>\n",
       "      <td>62</td>\n",
       "      <td>JARDIM DA PENHA</td>\n",
       "      <td>0</td>\n",
       "      <td>1</td>\n",
       "      <td>0</td>\n",
       "      <td>0</td>\n",
       "      <td>0</td>\n",
       "      <td>0</td>\n",
       "      <td>No</td>\n",
       "    </tr>\n",
       "    <tr>\n",
       "      <th>1</th>\n",
       "      <td>5.589978e+14</td>\n",
       "      <td>5642503</td>\n",
       "      <td>M</td>\n",
       "      <td>2016-04-29T16:08:27Z</td>\n",
       "      <td>2016-04-29T00:00:00Z</td>\n",
       "      <td>56</td>\n",
       "      <td>JARDIM DA PENHA</td>\n",
       "      <td>0</td>\n",
       "      <td>0</td>\n",
       "      <td>0</td>\n",
       "      <td>0</td>\n",
       "      <td>0</td>\n",
       "      <td>0</td>\n",
       "      <td>No</td>\n",
       "    </tr>\n",
       "    <tr>\n",
       "      <th>2</th>\n",
       "      <td>4.262962e+12</td>\n",
       "      <td>5642549</td>\n",
       "      <td>F</td>\n",
       "      <td>2016-04-29T16:19:04Z</td>\n",
       "      <td>2016-04-29T00:00:00Z</td>\n",
       "      <td>62</td>\n",
       "      <td>MATA DA PRAIA</td>\n",
       "      <td>0</td>\n",
       "      <td>0</td>\n",
       "      <td>0</td>\n",
       "      <td>0</td>\n",
       "      <td>0</td>\n",
       "      <td>0</td>\n",
       "      <td>No</td>\n",
       "    </tr>\n",
       "    <tr>\n",
       "      <th>3</th>\n",
       "      <td>8.679512e+11</td>\n",
       "      <td>5642828</td>\n",
       "      <td>F</td>\n",
       "      <td>2016-04-29T17:29:31Z</td>\n",
       "      <td>2016-04-29T00:00:00Z</td>\n",
       "      <td>8</td>\n",
       "      <td>PONTAL DE CAMBURI</td>\n",
       "      <td>0</td>\n",
       "      <td>0</td>\n",
       "      <td>0</td>\n",
       "      <td>0</td>\n",
       "      <td>0</td>\n",
       "      <td>0</td>\n",
       "      <td>No</td>\n",
       "    </tr>\n",
       "    <tr>\n",
       "      <th>4</th>\n",
       "      <td>8.841186e+12</td>\n",
       "      <td>5642494</td>\n",
       "      <td>F</td>\n",
       "      <td>2016-04-29T16:07:23Z</td>\n",
       "      <td>2016-04-29T00:00:00Z</td>\n",
       "      <td>56</td>\n",
       "      <td>JARDIM DA PENHA</td>\n",
       "      <td>0</td>\n",
       "      <td>1</td>\n",
       "      <td>1</td>\n",
       "      <td>0</td>\n",
       "      <td>0</td>\n",
       "      <td>0</td>\n",
       "      <td>No</td>\n",
       "    </tr>\n",
       "  </tbody>\n",
       "</table>\n",
       "</div>"
      ],
      "text/plain": [
       "      PatientId  AppointmentID Gender          ScheduledDay  \\\n",
       "0  2.987250e+13        5642903      F  2016-04-29T18:38:08Z   \n",
       "1  5.589978e+14        5642503      M  2016-04-29T16:08:27Z   \n",
       "2  4.262962e+12        5642549      F  2016-04-29T16:19:04Z   \n",
       "3  8.679512e+11        5642828      F  2016-04-29T17:29:31Z   \n",
       "4  8.841186e+12        5642494      F  2016-04-29T16:07:23Z   \n",
       "\n",
       "         AppointmentDay  Age      Neighbourhood  Scholarship  Hipertension  \\\n",
       "0  2016-04-29T00:00:00Z   62    JARDIM DA PENHA            0             1   \n",
       "1  2016-04-29T00:00:00Z   56    JARDIM DA PENHA            0             0   \n",
       "2  2016-04-29T00:00:00Z   62      MATA DA PRAIA            0             0   \n",
       "3  2016-04-29T00:00:00Z    8  PONTAL DE CAMBURI            0             0   \n",
       "4  2016-04-29T00:00:00Z   56    JARDIM DA PENHA            0             1   \n",
       "\n",
       "   Diabetes  Alcoholism  Handcap  SMS_received No-show  \n",
       "0         0           0        0             0      No  \n",
       "1         0           0        0             0      No  \n",
       "2         0           0        0             0      No  \n",
       "3         0           0        0             0      No  \n",
       "4         1           0        0             0      No  "
      ]
     },
     "execution_count": 72,
     "metadata": {},
     "output_type": "execute_result"
    }
   ],
   "source": [
    "df= pd.read_csv('noshowappointments.csv')\n",
    "df.head()"
   ]
  },
  {
   "cell_type": "code",
   "execution_count": 73,
   "id": "bd983cc8",
   "metadata": {},
   "outputs": [
    {
     "name": "stdout",
     "output_type": "stream",
     "text": [
      "<class 'pandas.core.frame.DataFrame'>\n",
      "RangeIndex: 110527 entries, 0 to 110526\n",
      "Data columns (total 14 columns):\n",
      " #   Column          Non-Null Count   Dtype  \n",
      "---  ------          --------------   -----  \n",
      " 0   PatientId       110527 non-null  float64\n",
      " 1   AppointmentID   110527 non-null  int64  \n",
      " 2   Gender          110527 non-null  object \n",
      " 3   ScheduledDay    110527 non-null  object \n",
      " 4   AppointmentDay  110527 non-null  object \n",
      " 5   Age             110527 non-null  int64  \n",
      " 6   Neighbourhood   110527 non-null  object \n",
      " 7   Scholarship     110527 non-null  int64  \n",
      " 8   Hipertension    110527 non-null  int64  \n",
      " 9   Diabetes        110527 non-null  int64  \n",
      " 10  Alcoholism      110527 non-null  int64  \n",
      " 11  Handcap         110527 non-null  int64  \n",
      " 12  SMS_received    110527 non-null  int64  \n",
      " 13  No-show         110527 non-null  object \n",
      "dtypes: float64(1), int64(8), object(5)\n",
      "memory usage: 11.8+ MB\n"
     ]
    }
   ],
   "source": [
    "df.info()"
   ]
  },
  {
   "cell_type": "code",
   "execution_count": 74,
   "id": "9cf16204",
   "metadata": {},
   "outputs": [
    {
     "data": {
      "text/html": [
       "<div>\n",
       "<style scoped>\n",
       "    .dataframe tbody tr th:only-of-type {\n",
       "        vertical-align: middle;\n",
       "    }\n",
       "\n",
       "    .dataframe tbody tr th {\n",
       "        vertical-align: top;\n",
       "    }\n",
       "\n",
       "    .dataframe thead th {\n",
       "        text-align: right;\n",
       "    }\n",
       "</style>\n",
       "<table border=\"1\" class=\"dataframe\">\n",
       "  <thead>\n",
       "    <tr style=\"text-align: right;\">\n",
       "      <th></th>\n",
       "      <th>count</th>\n",
       "      <th>mean</th>\n",
       "      <th>std</th>\n",
       "      <th>min</th>\n",
       "      <th>25%</th>\n",
       "      <th>50%</th>\n",
       "      <th>75%</th>\n",
       "      <th>max</th>\n",
       "    </tr>\n",
       "  </thead>\n",
       "  <tbody>\n",
       "    <tr>\n",
       "      <th>PatientId</th>\n",
       "      <td>110527.0</td>\n",
       "      <td>1.474963e+14</td>\n",
       "      <td>2.560949e+14</td>\n",
       "      <td>3.921784e+04</td>\n",
       "      <td>4.172614e+12</td>\n",
       "      <td>3.173184e+13</td>\n",
       "      <td>9.439172e+13</td>\n",
       "      <td>9.999816e+14</td>\n",
       "    </tr>\n",
       "    <tr>\n",
       "      <th>AppointmentID</th>\n",
       "      <td>110527.0</td>\n",
       "      <td>5.675305e+06</td>\n",
       "      <td>7.129575e+04</td>\n",
       "      <td>5.030230e+06</td>\n",
       "      <td>5.640286e+06</td>\n",
       "      <td>5.680573e+06</td>\n",
       "      <td>5.725524e+06</td>\n",
       "      <td>5.790484e+06</td>\n",
       "    </tr>\n",
       "    <tr>\n",
       "      <th>Age</th>\n",
       "      <td>110527.0</td>\n",
       "      <td>3.708887e+01</td>\n",
       "      <td>2.311020e+01</td>\n",
       "      <td>-1.000000e+00</td>\n",
       "      <td>1.800000e+01</td>\n",
       "      <td>3.700000e+01</td>\n",
       "      <td>5.500000e+01</td>\n",
       "      <td>1.150000e+02</td>\n",
       "    </tr>\n",
       "    <tr>\n",
       "      <th>Scholarship</th>\n",
       "      <td>110527.0</td>\n",
       "      <td>9.826558e-02</td>\n",
       "      <td>2.976748e-01</td>\n",
       "      <td>0.000000e+00</td>\n",
       "      <td>0.000000e+00</td>\n",
       "      <td>0.000000e+00</td>\n",
       "      <td>0.000000e+00</td>\n",
       "      <td>1.000000e+00</td>\n",
       "    </tr>\n",
       "    <tr>\n",
       "      <th>Hipertension</th>\n",
       "      <td>110527.0</td>\n",
       "      <td>1.972459e-01</td>\n",
       "      <td>3.979213e-01</td>\n",
       "      <td>0.000000e+00</td>\n",
       "      <td>0.000000e+00</td>\n",
       "      <td>0.000000e+00</td>\n",
       "      <td>0.000000e+00</td>\n",
       "      <td>1.000000e+00</td>\n",
       "    </tr>\n",
       "    <tr>\n",
       "      <th>Diabetes</th>\n",
       "      <td>110527.0</td>\n",
       "      <td>7.186479e-02</td>\n",
       "      <td>2.582651e-01</td>\n",
       "      <td>0.000000e+00</td>\n",
       "      <td>0.000000e+00</td>\n",
       "      <td>0.000000e+00</td>\n",
       "      <td>0.000000e+00</td>\n",
       "      <td>1.000000e+00</td>\n",
       "    </tr>\n",
       "    <tr>\n",
       "      <th>Alcoholism</th>\n",
       "      <td>110527.0</td>\n",
       "      <td>3.039981e-02</td>\n",
       "      <td>1.716856e-01</td>\n",
       "      <td>0.000000e+00</td>\n",
       "      <td>0.000000e+00</td>\n",
       "      <td>0.000000e+00</td>\n",
       "      <td>0.000000e+00</td>\n",
       "      <td>1.000000e+00</td>\n",
       "    </tr>\n",
       "    <tr>\n",
       "      <th>Handcap</th>\n",
       "      <td>110527.0</td>\n",
       "      <td>2.224796e-02</td>\n",
       "      <td>1.615427e-01</td>\n",
       "      <td>0.000000e+00</td>\n",
       "      <td>0.000000e+00</td>\n",
       "      <td>0.000000e+00</td>\n",
       "      <td>0.000000e+00</td>\n",
       "      <td>4.000000e+00</td>\n",
       "    </tr>\n",
       "    <tr>\n",
       "      <th>SMS_received</th>\n",
       "      <td>110527.0</td>\n",
       "      <td>3.210256e-01</td>\n",
       "      <td>4.668727e-01</td>\n",
       "      <td>0.000000e+00</td>\n",
       "      <td>0.000000e+00</td>\n",
       "      <td>0.000000e+00</td>\n",
       "      <td>1.000000e+00</td>\n",
       "      <td>1.000000e+00</td>\n",
       "    </tr>\n",
       "  </tbody>\n",
       "</table>\n",
       "</div>"
      ],
      "text/plain": [
       "                  count          mean           std           min  \\\n",
       "PatientId      110527.0  1.474963e+14  2.560949e+14  3.921784e+04   \n",
       "AppointmentID  110527.0  5.675305e+06  7.129575e+04  5.030230e+06   \n",
       "Age            110527.0  3.708887e+01  2.311020e+01 -1.000000e+00   \n",
       "Scholarship    110527.0  9.826558e-02  2.976748e-01  0.000000e+00   \n",
       "Hipertension   110527.0  1.972459e-01  3.979213e-01  0.000000e+00   \n",
       "Diabetes       110527.0  7.186479e-02  2.582651e-01  0.000000e+00   \n",
       "Alcoholism     110527.0  3.039981e-02  1.716856e-01  0.000000e+00   \n",
       "Handcap        110527.0  2.224796e-02  1.615427e-01  0.000000e+00   \n",
       "SMS_received   110527.0  3.210256e-01  4.668727e-01  0.000000e+00   \n",
       "\n",
       "                        25%           50%           75%           max  \n",
       "PatientId      4.172614e+12  3.173184e+13  9.439172e+13  9.999816e+14  \n",
       "AppointmentID  5.640286e+06  5.680573e+06  5.725524e+06  5.790484e+06  \n",
       "Age            1.800000e+01  3.700000e+01  5.500000e+01  1.150000e+02  \n",
       "Scholarship    0.000000e+00  0.000000e+00  0.000000e+00  1.000000e+00  \n",
       "Hipertension   0.000000e+00  0.000000e+00  0.000000e+00  1.000000e+00  \n",
       "Diabetes       0.000000e+00  0.000000e+00  0.000000e+00  1.000000e+00  \n",
       "Alcoholism     0.000000e+00  0.000000e+00  0.000000e+00  1.000000e+00  \n",
       "Handcap        0.000000e+00  0.000000e+00  0.000000e+00  4.000000e+00  \n",
       "SMS_received   0.000000e+00  0.000000e+00  1.000000e+00  1.000000e+00  "
      ]
     },
     "execution_count": 74,
     "metadata": {},
     "output_type": "execute_result"
    }
   ],
   "source": [
    "df.describe().T"
   ]
  },
  {
   "cell_type": "code",
   "execution_count": 75,
   "id": "9884d1b4",
   "metadata": {},
   "outputs": [
    {
     "data": {
      "text/html": [
       "<div>\n",
       "<style scoped>\n",
       "    .dataframe tbody tr th:only-of-type {\n",
       "        vertical-align: middle;\n",
       "    }\n",
       "\n",
       "    .dataframe tbody tr th {\n",
       "        vertical-align: top;\n",
       "    }\n",
       "\n",
       "    .dataframe thead th {\n",
       "        text-align: right;\n",
       "    }\n",
       "</style>\n",
       "<table border=\"1\" class=\"dataframe\">\n",
       "  <thead>\n",
       "    <tr style=\"text-align: right;\">\n",
       "      <th></th>\n",
       "      <th>count</th>\n",
       "      <th>unique</th>\n",
       "      <th>top</th>\n",
       "      <th>freq</th>\n",
       "    </tr>\n",
       "  </thead>\n",
       "  <tbody>\n",
       "    <tr>\n",
       "      <th>Gender</th>\n",
       "      <td>110527</td>\n",
       "      <td>2</td>\n",
       "      <td>F</td>\n",
       "      <td>71840</td>\n",
       "    </tr>\n",
       "    <tr>\n",
       "      <th>ScheduledDay</th>\n",
       "      <td>110527</td>\n",
       "      <td>103549</td>\n",
       "      <td>2016-05-06T07:09:54Z</td>\n",
       "      <td>24</td>\n",
       "    </tr>\n",
       "    <tr>\n",
       "      <th>AppointmentDay</th>\n",
       "      <td>110527</td>\n",
       "      <td>27</td>\n",
       "      <td>2016-06-06T00:00:00Z</td>\n",
       "      <td>4692</td>\n",
       "    </tr>\n",
       "    <tr>\n",
       "      <th>Neighbourhood</th>\n",
       "      <td>110527</td>\n",
       "      <td>81</td>\n",
       "      <td>JARDIM CAMBURI</td>\n",
       "      <td>7717</td>\n",
       "    </tr>\n",
       "    <tr>\n",
       "      <th>No-show</th>\n",
       "      <td>110527</td>\n",
       "      <td>2</td>\n",
       "      <td>No</td>\n",
       "      <td>88208</td>\n",
       "    </tr>\n",
       "  </tbody>\n",
       "</table>\n",
       "</div>"
      ],
      "text/plain": [
       "                 count  unique                   top   freq\n",
       "Gender          110527       2                     F  71840\n",
       "ScheduledDay    110527  103549  2016-05-06T07:09:54Z     24\n",
       "AppointmentDay  110527      27  2016-06-06T00:00:00Z   4692\n",
       "Neighbourhood   110527      81        JARDIM CAMBURI   7717\n",
       "No-show         110527       2                    No  88208"
      ]
     },
     "execution_count": 75,
     "metadata": {},
     "output_type": "execute_result"
    }
   ],
   "source": [
    "df.describe(include='O').T"
   ]
  },
  {
   "cell_type": "code",
   "execution_count": 76,
   "id": "097f44a3",
   "metadata": {},
   "outputs": [
    {
     "data": {
      "text/plain": [
       "<seaborn.axisgrid.FacetGrid at 0x1baf4078d00>"
      ]
     },
     "execution_count": 76,
     "metadata": {},
     "output_type": "execute_result"
    },
    {
     "data": {
      "image/png": "[encoded data removed]",
      "text/plain": [
       "<Figure size 360x360 with 1 Axes>"
      ]
     },
     "metadata": {
      "needs_background": "light"
     },
     "output_type": "display_data"
    }
   ],
   "source": [
    "sns.displot(df['Age'])"
   ]
  },
  {
   "cell_type": "code",
   "execution_count": 77,
   "id": "93e06a3a",
   "metadata": {},
   "outputs": [
    {
     "data": {
      "text/html": [
       "<div>\n",
       "<style scoped>\n",
       "    .dataframe tbody tr th:only-of-type {\n",
       "        vertical-align: middle;\n",
       "    }\n",
       "\n",
       "    .dataframe tbody tr th {\n",
       "        vertical-align: top;\n",
       "    }\n",
       "\n",
       "    .dataframe thead th {\n",
       "        text-align: right;\n",
       "    }\n",
       "</style>\n",
       "<table border=\"1\" class=\"dataframe\">\n",
       "  <thead>\n",
       "    <tr style=\"text-align: right;\">\n",
       "      <th></th>\n",
       "      <th>PatientId</th>\n",
       "      <th>AppointmentID</th>\n",
       "      <th>Gender</th>\n",
       "      <th>ScheduledDay</th>\n",
       "      <th>AppointmentDay</th>\n",
       "      <th>Age</th>\n",
       "      <th>Neighbourhood</th>\n",
       "      <th>Scholarship</th>\n",
       "      <th>Hipertension</th>\n",
       "      <th>Diabetes</th>\n",
       "      <th>Alcoholism</th>\n",
       "      <th>Handcap</th>\n",
       "      <th>SMS_received</th>\n",
       "      <th>No-show</th>\n",
       "    </tr>\n",
       "  </thead>\n",
       "  <tbody>\n",
       "    <tr>\n",
       "      <th>99832</th>\n",
       "      <td>4.659432e+14</td>\n",
       "      <td>5775010</td>\n",
       "      <td>F</td>\n",
       "      <td>2016-06-06T08:58:13Z</td>\n",
       "      <td>2016-06-06T00:00:00Z</td>\n",
       "      <td>-1</td>\n",
       "      <td>ROMÃO</td>\n",
       "      <td>0</td>\n",
       "      <td>0</td>\n",
       "      <td>0</td>\n",
       "      <td>0</td>\n",
       "      <td>0</td>\n",
       "      <td>0</td>\n",
       "      <td>No</td>\n",
       "    </tr>\n",
       "  </tbody>\n",
       "</table>\n",
       "</div>"
      ],
      "text/plain": [
       "          PatientId  AppointmentID Gender          ScheduledDay  \\\n",
       "99832  4.659432e+14        5775010      F  2016-06-06T08:58:13Z   \n",
       "\n",
       "             AppointmentDay  Age Neighbourhood  Scholarship  Hipertension  \\\n",
       "99832  2016-06-06T00:00:00Z   -1         ROMÃO            0             0   \n",
       "\n",
       "       Diabetes  Alcoholism  Handcap  SMS_received No-show  \n",
       "99832         0           0        0             0      No  "
      ]
     },
     "execution_count": 77,
     "metadata": {},
     "output_type": "execute_result"
    }
   ],
   "source": [
    "df[df[\"Age\"]<0]"
   ]
  },
  {
   "cell_type": "code",
   "execution_count": 78,
   "id": "efc93864",
   "metadata": {},
   "outputs": [],
   "source": [
    "df=df[~df[\"Age\"]<0]"
   ]
  },
  {
   "cell_type": "code",
   "execution_count": 79,
   "id": "b4e53c07",
   "metadata": {},
   "outputs": [
    {
     "data": {
      "text/plain": [
       "3539"
      ]
     },
     "execution_count": 79,
     "metadata": {},
     "output_type": "execute_result"
    }
   ],
   "source": [
    "df[df[\"Age\"]==0]['Age'].count()"
   ]
  },
  {
   "cell_type": "code",
   "execution_count": 80,
   "id": "402d2877",
   "metadata": {},
   "outputs": [],
   "source": [
    "def categrizAge(age):\n",
    "    if age in range(0,15):\n",
    "        return 'Children'\n",
    "    elif age in range(15,25):\n",
    "        return'Youth'\n",
    "    elif age in range (25,65):\n",
    "        return 'Adults'\n",
    "    else :\n",
    "        return 'grand older'\n"
   ]
  },
  {
   "cell_type": "code",
   "execution_count": 81,
   "id": "044abc81",
   "metadata": {},
   "outputs": [],
   "source": [
    "df['Age']=df['Age'].apply(categrizAge)\n"
   ]
  },
  {
   "cell_type": "code",
   "execution_count": 82,
   "id": "04a7a4c1",
   "metadata": {},
   "outputs": [
    {
     "data": {
      "text/plain": [
       "<AxesSubplot:xlabel='Age', ylabel='count'>"
      ]
     },
     "execution_count": 82,
     "metadata": {},
     "output_type": "execute_result"
    },
    {
     "data": {
      "image/png": "[encoded data removed]",
      "text/plain": [
       "<Figure size 432x288 with 1 Axes>"
      ]
     },
     "metadata": {
      "needs_background": "light"
     },
     "output_type": "display_data"
    }
   ],
   "source": [
    "sns.countplot(data=df,x='Age', hue  ='Gender')"
   ]
  },
  {
   "cell_type": "raw",
   "id": "3d23d54b",
   "metadata": {},
   "source": [
    "ScheduledDay tells us on what day the patient set up their appointment."
   ]
  },
  {
   "cell_type": "code",
   "execution_count": 83,
   "id": "b24bc878",
   "metadata": {},
   "outputs": [],
   "source": [
    "df['ScheduledDay'] = pd.to_datetime(df['ScheduledDay'], errors='coerce').dt.date\n",
    "df['AppointmentDay'] = pd.to_datetime(df['AppointmentDay'], errors='coerce').dt.date\n"
   ]
  },
  {
   "cell_type": "raw",
   "id": "c85faeb6",
   "metadata": {},
   "source": [
    "Be careful about the encoding of the last column:\n",
    "it says ‘No’ if the patient showed up to their appointment,\n",
    "and ‘Yes’ if they did not show up."
   ]
  },
  {
   "cell_type": "code",
   "execution_count": 90,
   "id": "02a0a937",
   "metadata": {},
   "outputs": [
    {
     "data": {
      "text/plain": [
       "array(['showed', 'notshowed'], dtype=object)"
      ]
     },
     "execution_count": 90,
     "metadata": {},
     "output_type": "execute_result"
    }
   ],
   "source": [
    "df['No-show'].unique()"
   ]
  },
  {
   "cell_type": "code",
   "execution_count": 86,
   "id": "73a6d94c",
   "metadata": {},
   "outputs": [],
   "source": [
    "df['No-show'] = df['No-show'].replace({'No': \"showed\", 'Yes': \"notshowed\"})\n"
   ]
  },
  {
   "cell_type": "code",
   "execution_count": 87,
   "id": "dde53966",
   "metadata": {},
   "outputs": [
    {
     "data": {
      "image/png": "[encoded data removed]",
      "text/plain": [
       "<Figure size 360x360 with 1 Axes>"
      ]
     },
     "metadata": {},
     "output_type": "display_data"
    }
   ],
   "source": [
    "df.groupby(\"No-show\")[\"No-show\"].count().plot(figsize=(5,5),kind=\"pie\");\n"
   ]
  },
  {
   "cell_type": "code",
   "execution_count": 88,
   "id": "6f1ffa62",
   "metadata": {},
   "outputs": [
    {
     "data": {
      "text/plain": [
       "<AxesSubplot:xlabel='No-show', ylabel='count'>"
      ]
     },
     "execution_count": 88,
     "metadata": {},
     "output_type": "execute_result"
    },
    {
     "data": {
      "image/png": "[encoded data removed]",
      "text/plain": [
       "<Figure size 432x288 with 1 Axes>"
      ]
     },
     "metadata": {
      "needs_background": "light"
     },
     "output_type": "display_data"
    }
   ],
   "source": [
    "sns.countplot(data=df,x='No-show', hue  ='Gender')"
   ]
  },
  {
   "cell_type": "code",
   "execution_count": 91,
   "id": "93536fee",
   "metadata": {},
   "outputs": [
    {
     "data": {
      "text/plain": [
       "<AxesSubplot:xlabel='No-show', ylabel='count'>"
      ]
     },
     "execution_count": 91,
     "metadata": {},
     "output_type": "execute_result"
    },
    {
     "data": {
      "image/png": "[encoded data removed]",
      "text/plain": [
       "<Figure size 432x288 with 1 Axes>"
      ]
     },
     "metadata": {
      "needs_background": "light"
     },
     "output_type": "display_data"
    }
   ],
   "source": [
    "sns.countplot(data=df,x='No-show', hue  ='Scholarship')"
   ]
  },
  {
   "cell_type": "code",
   "execution_count": 95,
   "id": "c3c1bc8c",
   "metadata": {},
   "outputs": [
    {
     "data": {
      "text/plain": [
       "array(['JARDIM DA PENHA', 'MATA DA PRAIA', 'PONTAL DE CAMBURI',\n",
       "       'REPÚBLICA', 'GOIABEIRAS', 'ANDORINHAS', 'CONQUISTA',\n",
       "       'NOVA PALESTINA', 'DA PENHA', 'TABUAZEIRO', 'BENTO FERREIRA',\n",
       "       'SÃO PEDRO', 'SANTA MARTHA', 'SÃO CRISTÓVÃO', 'MARUÍPE',\n",
       "       'GRANDE VITÓRIA', 'SÃO BENEDITO', 'ILHA DAS CAIEIRAS',\n",
       "       'SANTO ANDRÉ', 'SOLON BORGES', 'BONFIM', 'JARDIM CAMBURI',\n",
       "       'MARIA ORTIZ', 'JABOUR', 'ANTÔNIO HONÓRIO', 'RESISTÊNCIA',\n",
       "       'ILHA DE SANTA MARIA', 'JUCUTUQUARA', 'MONTE BELO',\n",
       "       'MÁRIO CYPRESTE', 'SANTO ANTÔNIO', 'BELA VISTA', 'PRAIA DO SUÁ',\n",
       "       'SANTA HELENA', 'ITARARÉ', 'INHANGUETÁ', 'UNIVERSITÁRIO',\n",
       "       'SÃO JOSÉ', 'REDENÇÃO', 'SANTA CLARA', 'CENTRO', 'PARQUE MOSCOSO',\n",
       "       'DO MOSCOSO', 'SANTOS DUMONT', 'CARATOÍRA', 'ARIOVALDO FAVALESSA',\n",
       "       'ILHA DO FRADE', 'GURIGICA', 'JOANA D´ARC', 'CONSOLAÇÃO',\n",
       "       'PRAIA DO CANTO', 'BOA VISTA', 'MORADA DE CAMBURI', 'SANTA LUÍZA',\n",
       "       'SANTA LÚCIA', 'BARRO VERMELHO', 'ESTRELINHA', 'FORTE SÃO JOÃO',\n",
       "       'FONTE GRANDE', 'ENSEADA DO SUÁ', 'SANTOS REIS', 'PIEDADE',\n",
       "       'JESUS DE NAZARETH', 'SANTA TEREZA', 'CRUZAMENTO',\n",
       "       'ILHA DO PRÍNCIPE', 'ROMÃO', 'COMDUSA', 'SANTA CECÍLIA',\n",
       "       'VILA RUBIM', 'DE LOURDES', 'DO QUADRO', 'DO CABRAL', 'HORTO',\n",
       "       'SEGURANÇA DO LAR', 'ILHA DO BOI', 'FRADINHOS', 'NAZARETH',\n",
       "       'AEROPORTO', 'ILHAS OCEÂNICAS DE TRINDADE', 'PARQUE INDUSTRIAL'],\n",
       "      dtype=object)"
      ]
     },
     "execution_count": 95,
     "metadata": {},
     "output_type": "execute_result"
    }
   ],
   "source": [
    "df['Neighbourhood'].unique()"
   ]
  },
  {
   "cell_type": "code",
   "execution_count": 107,
   "id": "8bb3eba3",
   "metadata": {},
   "outputs": [
    {
     "data": {
      "text/plain": [
       "(array([ 0,  1,  2,  3,  4,  5,  6,  7,  8,  9, 10, 11, 12, 13, 14, 15, 16,\n",
       "        17, 18, 19, 20, 21, 22, 23, 24, 25, 26, 27, 28, 29, 30, 31, 32, 33,\n",
       "        34, 35, 36, 37, 38, 39, 40, 41, 42, 43, 44, 45, 46, 47, 48, 49, 50,\n",
       "        51, 52, 53, 54, 55, 56, 57, 58, 59, 60, 61, 62, 63, 64, 65, 66, 67,\n",
       "        68, 69, 70, 71, 72, 73, 74, 75, 76, 77, 78, 79, 80]),\n",
       " [Text(0, 0, 'JARDIM DA PENHA'),\n",
       "  Text(1, 0, 'MATA DA PRAIA'),\n",
       "  Text(2, 0, 'PONTAL DE CAMBURI'),\n",
       "  Text(3, 0, 'REPÚBLICA'),\n",
       "  Text(4, 0, 'GOIABEIRAS'),\n",
       "  Text(5, 0, 'ANDORINHAS'),\n",
       "  Text(6, 0, 'CONQUISTA'),\n",
       "  Text(7, 0, 'NOVA PALESTINA'),\n",
       "  Text(8, 0, 'DA PENHA'),\n",
       "  Text(9, 0, 'TABUAZEIRO'),\n",
       "  Text(10, 0, 'BENTO FERREIRA'),\n",
       "  Text(11, 0, 'SÃO PEDRO'),\n",
       "  Text(12, 0, 'SANTA MARTHA'),\n",
       "  Text(13, 0, 'SÃO CRISTÓVÃO'),\n",
       "  Text(14, 0, 'MARUÍPE'),\n",
       "  Text(15, 0, 'GRANDE VITÓRIA'),\n",
       "  Text(16, 0, 'SÃO BENEDITO'),\n",
       "  Text(17, 0, 'ILHA DAS CAIEIRAS'),\n",
       "  Text(18, 0, 'SANTO ANDRÉ'),\n",
       "  Text(19, 0, 'SOLON BORGES'),\n",
       "  Text(20, 0, 'BONFIM'),\n",
       "  Text(21, 0, 'JARDIM CAMBURI'),\n",
       "  Text(22, 0, 'MARIA ORTIZ'),\n",
       "  Text(23, 0, 'JABOUR'),\n",
       "  Text(24, 0, 'ANTÔNIO HONÓRIO'),\n",
       "  Text(25, 0, 'RESISTÊNCIA'),\n",
       "  Text(26, 0, 'ILHA DE SANTA MARIA'),\n",
       "  Text(27, 0, 'JUCUTUQUARA'),\n",
       "  Text(28, 0, 'MONTE BELO'),\n",
       "  Text(29, 0, 'MÁRIO CYPRESTE'),\n",
       "  Text(30, 0, 'SANTO ANTÔNIO'),\n",
       "  Text(31, 0, 'BELA VISTA'),\n",
       "  Text(32, 0, 'PRAIA DO SUÁ'),\n",
       "  Text(33, 0, 'SANTA HELENA'),\n",
       "  Text(34, 0, 'ITARARÉ'),\n",
       "  Text(35, 0, 'INHANGUETÁ'),\n",
       "  Text(36, 0, 'UNIVERSITÁRIO'),\n",
       "  Text(37, 0, 'SÃO JOSÉ'),\n",
       "  Text(38, 0, 'REDENÇÃO'),\n",
       "  Text(39, 0, 'SANTA CLARA'),\n",
       "  Text(40, 0, 'CENTRO'),\n",
       "  Text(41, 0, 'PARQUE MOSCOSO'),\n",
       "  Text(42, 0, 'DO MOSCOSO'),\n",
       "  Text(43, 0, 'SANTOS DUMONT'),\n",
       "  Text(44, 0, 'CARATOÍRA'),\n",
       "  Text(45, 0, 'ARIOVALDO FAVALESSA'),\n",
       "  Text(46, 0, 'ILHA DO FRADE'),\n",
       "  Text(47, 0, 'GURIGICA'),\n",
       "  Text(48, 0, 'JOANA D´ARC'),\n",
       "  Text(49, 0, 'CONSOLAÇÃO'),\n",
       "  Text(50, 0, 'PRAIA DO CANTO'),\n",
       "  Text(51, 0, 'BOA VISTA'),\n",
       "  Text(52, 0, 'MORADA DE CAMBURI'),\n",
       "  Text(53, 0, 'SANTA LUÍZA'),\n",
       "  Text(54, 0, 'SANTA LÚCIA'),\n",
       "  Text(55, 0, 'BARRO VERMELHO'),\n",
       "  Text(56, 0, 'ESTRELINHA'),\n",
       "  Text(57, 0, 'FORTE SÃO JOÃO'),\n",
       "  Text(58, 0, 'FONTE GRANDE'),\n",
       "  Text(59, 0, 'ENSEADA DO SUÁ'),\n",
       "  Text(60, 0, 'SANTOS REIS'),\n",
       "  Text(61, 0, 'PIEDADE'),\n",
       "  Text(62, 0, 'JESUS DE NAZARETH'),\n",
       "  Text(63, 0, 'SANTA TEREZA'),\n",
       "  Text(64, 0, 'CRUZAMENTO'),\n",
       "  Text(65, 0, 'ILHA DO PRÍNCIPE'),\n",
       "  Text(66, 0, 'ROMÃO'),\n",
       "  Text(67, 0, 'COMDUSA'),\n",
       "  Text(68, 0, 'SANTA CECÍLIA'),\n",
       "  Text(69, 0, 'VILA RUBIM'),\n",
       "  Text(70, 0, 'DE LOURDES'),\n",
       "  Text(71, 0, 'DO QUADRO'),\n",
       "  Text(72, 0, 'DO CABRAL'),\n",
       "  Text(73, 0, 'HORTO'),\n",
       "  Text(74, 0, 'SEGURANÇA DO LAR'),\n",
       "  Text(75, 0, 'ILHA DO BOI'),\n",
       "  Text(76, 0, 'FRADINHOS'),\n",
       "  Text(77, 0, 'NAZARETH'),\n",
       "  Text(78, 0, 'AEROPORTO'),\n",
       "  Text(79, 0, 'ILHAS OCEÂNICAS DE TRINDADE'),\n",
       "  Text(80, 0, 'PARQUE INDUSTRIAL')])"
      ]
     },
     "execution_count": 107,
     "metadata": {},
     "output_type": "execute_result"
    },
    {
     "data": {
      "image/png": "[encoded data removed]",
      "text/plain": [
       "<Figure size 1080x360 with 1 Axes>"
      ]
     },
     "metadata": {
      "needs_background": "light"
     },
     "output_type": "display_data"
    }
   ],
   "source": [
    "plt.figure(figsize=(15,5))\n",
    "sns.countplot(data=df,x='Neighbourhood')\n",
    "plt.xticks(rotation = 90)\n"
   ]
  },
  {
   "cell_type": "code",
   "execution_count": 111,
   "id": "b987222b",
   "metadata": {},
   "outputs": [
    {
     "data": {
      "text/html": [
       "<div>\n",
       "<style scoped>\n",
       "    .dataframe tbody tr th:only-of-type {\n",
       "        vertical-align: middle;\n",
       "    }\n",
       "\n",
       "    .dataframe tbody tr th {\n",
       "        vertical-align: top;\n",
       "    }\n",
       "\n",
       "    .dataframe thead th {\n",
       "        text-align: right;\n",
       "    }\n",
       "</style>\n",
       "<table border=\"1\" class=\"dataframe\">\n",
       "  <thead>\n",
       "    <tr style=\"text-align: right;\">\n",
       "      <th></th>\n",
       "      <th>No-show</th>\n",
       "      <th>Hipertension</th>\n",
       "      <th>Diabetes</th>\n",
       "      <th>Alcoholism</th>\n",
       "      <th>size</th>\n",
       "    </tr>\n",
       "  </thead>\n",
       "  <tbody>\n",
       "    <tr>\n",
       "      <th>0</th>\n",
       "      <td>notshowed</td>\n",
       "      <td>0</td>\n",
       "      <td>0</td>\n",
       "      <td>0</td>\n",
       "      <td>17838</td>\n",
       "    </tr>\n",
       "    <tr>\n",
       "      <th>1</th>\n",
       "      <td>notshowed</td>\n",
       "      <td>0</td>\n",
       "      <td>0</td>\n",
       "      <td>1</td>\n",
       "      <td>420</td>\n",
       "    </tr>\n",
       "    <tr>\n",
       "      <th>2</th>\n",
       "      <td>notshowed</td>\n",
       "      <td>0</td>\n",
       "      <td>1</td>\n",
       "      <td>0</td>\n",
       "      <td>276</td>\n",
       "    </tr>\n",
       "    <tr>\n",
       "      <th>3</th>\n",
       "      <td>notshowed</td>\n",
       "      <td>0</td>\n",
       "      <td>1</td>\n",
       "      <td>1</td>\n",
       "      <td>13</td>\n",
       "    </tr>\n",
       "    <tr>\n",
       "      <th>4</th>\n",
       "      <td>notshowed</td>\n",
       "      <td>1</td>\n",
       "      <td>0</td>\n",
       "      <td>0</td>\n",
       "      <td>2433</td>\n",
       "    </tr>\n",
       "    <tr>\n",
       "      <th>5</th>\n",
       "      <td>notshowed</td>\n",
       "      <td>1</td>\n",
       "      <td>0</td>\n",
       "      <td>1</td>\n",
       "      <td>198</td>\n",
       "    </tr>\n",
       "    <tr>\n",
       "      <th>6</th>\n",
       "      <td>notshowed</td>\n",
       "      <td>1</td>\n",
       "      <td>1</td>\n",
       "      <td>0</td>\n",
       "      <td>1095</td>\n",
       "    </tr>\n",
       "    <tr>\n",
       "      <th>7</th>\n",
       "      <td>notshowed</td>\n",
       "      <td>1</td>\n",
       "      <td>1</td>\n",
       "      <td>1</td>\n",
       "      <td>46</td>\n",
       "    </tr>\n",
       "    <tr>\n",
       "      <th>8</th>\n",
       "      <td>showed</td>\n",
       "      <td>0</td>\n",
       "      <td>0</td>\n",
       "      <td>0</td>\n",
       "      <td>67473</td>\n",
       "    </tr>\n",
       "    <tr>\n",
       "      <th>9</th>\n",
       "      <td>showed</td>\n",
       "      <td>0</td>\n",
       "      <td>0</td>\n",
       "      <td>1</td>\n",
       "      <td>1537</td>\n",
       "    </tr>\n",
       "    <tr>\n",
       "      <th>10</th>\n",
       "      <td>showed</td>\n",
       "      <td>0</td>\n",
       "      <td>1</td>\n",
       "      <td>0</td>\n",
       "      <td>1105</td>\n",
       "    </tr>\n",
       "    <tr>\n",
       "      <th>11</th>\n",
       "      <td>showed</td>\n",
       "      <td>0</td>\n",
       "      <td>1</td>\n",
       "      <td>1</td>\n",
       "      <td>63</td>\n",
       "    </tr>\n",
       "    <tr>\n",
       "      <th>12</th>\n",
       "      <td>showed</td>\n",
       "      <td>1</td>\n",
       "      <td>0</td>\n",
       "      <td>0</td>\n",
       "      <td>11811</td>\n",
       "    </tr>\n",
       "    <tr>\n",
       "      <th>13</th>\n",
       "      <td>showed</td>\n",
       "      <td>1</td>\n",
       "      <td>0</td>\n",
       "      <td>1</td>\n",
       "      <td>873</td>\n",
       "    </tr>\n",
       "    <tr>\n",
       "      <th>14</th>\n",
       "      <td>showed</td>\n",
       "      <td>1</td>\n",
       "      <td>1</td>\n",
       "      <td>0</td>\n",
       "      <td>5135</td>\n",
       "    </tr>\n",
       "    <tr>\n",
       "      <th>15</th>\n",
       "      <td>showed</td>\n",
       "      <td>1</td>\n",
       "      <td>1</td>\n",
       "      <td>1</td>\n",
       "      <td>210</td>\n",
       "    </tr>\n",
       "  </tbody>\n",
       "</table>\n",
       "</div>"
      ],
      "text/plain": [
       "      No-show  Hipertension  Diabetes  Alcoholism   size\n",
       "0   notshowed             0         0           0  17838\n",
       "1   notshowed             0         0           1    420\n",
       "2   notshowed             0         1           0    276\n",
       "3   notshowed             0         1           1     13\n",
       "4   notshowed             1         0           0   2433\n",
       "5   notshowed             1         0           1    198\n",
       "6   notshowed             1         1           0   1095\n",
       "7   notshowed             1         1           1     46\n",
       "8      showed             0         0           0  67473\n",
       "9      showed             0         0           1   1537\n",
       "10     showed             0         1           0   1105\n",
       "11     showed             0         1           1     63\n",
       "12     showed             1         0           0  11811\n",
       "13     showed             1         0           1    873\n",
       "14     showed             1         1           0   5135\n",
       "15     showed             1         1           1    210"
      ]
     },
     "execution_count": 111,
     "metadata": {},
     "output_type": "execute_result"
    }
   ],
   "source": [
    "\n",
    "df.groupby([\"No-show\",'Hipertension','Diabetes',\"Alcoholism\"], as_index=False).size()\n"
   ]
  },
  {
   "cell_type": "code",
   "execution_count": null,
   "id": "006ed3eb",
   "metadata": {},
   "outputs": [],
   "source": []
  },
  {
   "cell_type": "code",
   "execution_count": null,
   "id": "527c139d",
   "metadata": {},
   "outputs": [],
   "source": []
  },
  {
   "cell_type": "code",
   "execution_count": null,
   "id": "f92abbb7",
   "metadata": {},
   "outputs": [],
   "source": []
  }
 ],
 "metadata": {
  "kernelspec": {
   "display_name": "Python 3 (ipykernel)",
   "language": "python",
   "name": "python3"
  },
  "language_info": {
   "codemirror_mode": {
    "name": "ipython",
    "version": 3
   },
   "file_extension": ".py",
   "mimetype": "text/x-python",
   "name": "python",
   "nbconvert_exporter": "python",
   "pygments_lexer": "ipython3",
   "version": "3.9.7"
  }
 },
 "nbformat": 4,
 "nbformat_minor": 5
}
